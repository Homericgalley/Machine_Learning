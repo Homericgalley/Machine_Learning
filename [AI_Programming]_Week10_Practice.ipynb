{
  "nbformat": 4,
  "nbformat_minor": 0,
  "metadata": {
    "colab": {
      "name": "[AI_Programming] Week10_Practice.ipynb",
      "provenance": [],
      "authorship_tag": "ABX9TyNlTrFunh7kM2JHuxYt3TpB",
      "include_colab_link": true
    },
    "kernelspec": {
      "name": "python3",
      "display_name": "Python 3"
    },
    "language_info": {
      "name": "python"
    }
  },
  "cells": [
    {
      "cell_type": "markdown",
      "metadata": {
        "id": "view-in-github",
        "colab_type": "text"
      },
      "source": [
        "<a href=\"https://colab.research.google.com/github/Homericgalley/Machine_Learning/blob/main/%5BAI_Programming%5D_Week10_Practice.ipynb\" target=\"_parent\"><img src=\"https://colab.research.google.com/assets/colab-badge.svg\" alt=\"Open In Colab\"/></a>"
      ]
    },
    {
      "cell_type": "markdown",
      "metadata": {
        "id": "IJmER4lp-KRV"
      },
      "source": [
        "# Week10_Machine_Learning_Practice"
      ]
    },
    {
      "cell_type": "code",
      "metadata": {
        "id": "7CBKmpnZ9cFZ"
      },
      "source": [
        "import random\n",
        "import math"
      ],
      "execution_count": 2,
      "outputs": []
    },
    {
      "cell_type": "code",
      "metadata": {
        "colab": {
          "base_uri": "https://localhost:8080/"
        },
        "id": "tNNmXc9f-ZLj",
        "outputId": "48999519-3645-4d0b-8a4a-56c62c499e19"
      },
      "source": [
        "a = random.uniform(-1,1) # <- random하게 -1에서 1 사이의 uniform한 값을 distribution하게 분산시켜 만들어라\n",
        "b = random.uniform(-1,1)\n",
        "c = random.uniform(-1,1)\n",
        "d = random.uniform(-1,1)\n",
        "e = random.uniform(-1,1)\n",
        "f = random.uniform(-1,1)\n",
        "g = random.uniform(-1,1)\n",
        "h = random.uniform(-1,1)\n",
        "i = random.uniform(-1,1)\n",
        "\n",
        "eta=0.0001 #<---eta값(학습률 값) 설정, random하게 찍은 추정치에서부터 '정답 수치'로 가기 위해, 움직이는 비율을 정의하는 것(?)\n",
        "\n",
        "print(a, b, c, d, e, f, g, h, i)"
      ],
      "execution_count": 4,
      "outputs": [
        {
          "output_type": "stream",
          "name": "stdout",
          "text": [
            "-0.9513811680050923 -0.7090762748629944 0.7833525938007502 -0.5028097410708336 -0.21355268939620387 0.2890310709095636 0.6575144491291769 0.04028266448379836 0.6250537854115483\n"
          ]
        }
      ]
    },
    {
      "cell_type": "code",
      "metadata": {
        "id": "Ub9ORB0NILoJ"
      },
      "source": [
        "def sigmoid(x):\n",
        "  return 1.0/(1.0+math.exp(-x)) # sigmoid 함수 정의 : math에서 익스포저?함수 불러옴"
      ],
      "execution_count": 5,
      "outputs": []
    },
    {
      "cell_type": "code",
      "metadata": {
        "id": "KkFEw4oTJNaS"
      },
      "source": [
        "data = [(5,10), (7,8), (10,8), (15,15), (20,3), (23,12)]\n",
        "labels = [-1, -1, +1, +1, -1, -1]"
      ],
      "execution_count": 26,
      "outputs": []
    },
    {
      "cell_type": "code",
      "metadata": {
        "id": "ekk7fHCwKFoQ"
      },
      "source": [
        "zValue=[0,0,0,0,0,0]\n",
        "FinalzValue=[0,0,0,0,0,0]\n",
        "\n",
        "for counter in range(1000):\n",
        "  da=db=dc=dd=de=df=dg=dh=di=0.0 #아래 코드가 실행이 안되서 한참 찾아봤는데, 여기서 dd를 빼먹음..\n",
        "  for idx in range(len(data)):\n",
        "    x = float(data[idx][0])\n",
        "    y = float(data[idx][1])\n",
        "    z1 = a*x + b*y + c\n",
        "    X = sigmoid(z1)\n",
        "    z2 = d*X + e*y + f\n",
        "    Y = sigmoid(z2)\n",
        "    z = g*X + h*Y + i\n",
        "    Z = labels[idx]\n",
        "    dz = 2*(z-Z)\n",
        "    dz1 = dz*g*sigmoid(z1)*(1.0-sigmoid(z1))\n",
        "    dz2 = dz*h*sigmoid(z2)*(1.0-sigmoid(z2))\n",
        "    da+= dz1*x\n",
        "    db+= dz1*y\n",
        "    dc+= dz1\n",
        "    dd+= dz2*x\n",
        "    de+= dz2*y\n",
        "    df+= dz2\n",
        "    dg+= dz*X\n",
        "    dh+= dz*Y\n",
        "    di+= dz"
      ],
      "execution_count": 35,
      "outputs": []
    },
    {
      "cell_type": "code",
      "metadata": {
        "id": "DH3Vs5jtVn5n"
      },
      "source": [
        "a = a-eta*da\n",
        "b = b-eta*db\n",
        "c = c-eta*dc\n",
        "d = d-eta*dd\n",
        "e = e-eta*de\n",
        "f = f-eta*df\n",
        "g = g-eta*dg\n",
        "h = h-eta*dh\n",
        "i = i-eta*di"
      ],
      "execution_count": 36,
      "outputs": []
    },
    {
      "cell_type": "code",
      "metadata": {
        "colab": {
          "base_uri": "https://localhost:8080/",
          "height": 164
        },
        "id": "ggf0ltwqXngz",
        "outputId": "6afb2e71-ff25-494d-9469-e754191b6f67"
      },
      "source": [
        "print('a=%1f, b=%1f, c=%1f, d=%1f, e=%1f, f=&1f, g=%1f, h=%1f, i=%1f' % (a,b,c,d,e,f,g,h,i)) # 왜안될까."
      ],
      "execution_count": 39,
      "outputs": [
        {
          "output_type": "error",
          "ename": "TypeError",
          "evalue": "ignored",
          "traceback": [
            "\u001b[0;31m---------------------------------------------------------------------------\u001b[0m",
            "\u001b[0;31mTypeError\u001b[0m                                 Traceback (most recent call last)",
            "\u001b[0;32m<ipython-input-39-5acea4d6fea6>\u001b[0m in \u001b[0;36m<module>\u001b[0;34m()\u001b[0m\n\u001b[0;32m----> 1\u001b[0;31m \u001b[0mprint\u001b[0m\u001b[0;34m(\u001b[0m\u001b[0;34m'a=%1f, b=%1f, c=%1f, d=%1f, e=%1f, f=&1f, g=%1f, h=%1f, i=%1f'\u001b[0m \u001b[0;34m%\u001b[0m \u001b[0;34m(\u001b[0m\u001b[0ma\u001b[0m\u001b[0;34m,\u001b[0m\u001b[0mb\u001b[0m\u001b[0;34m,\u001b[0m\u001b[0mc\u001b[0m\u001b[0;34m,\u001b[0m\u001b[0md\u001b[0m\u001b[0;34m,\u001b[0m\u001b[0me\u001b[0m\u001b[0;34m,\u001b[0m\u001b[0mf\u001b[0m\u001b[0;34m,\u001b[0m\u001b[0mg\u001b[0m\u001b[0;34m,\u001b[0m\u001b[0mh\u001b[0m\u001b[0;34m,\u001b[0m\u001b[0mi\u001b[0m\u001b[0;34m)\u001b[0m\u001b[0;34m)\u001b[0m\u001b[0;34m\u001b[0m\u001b[0;34m\u001b[0m\u001b[0m\n\u001b[0m",
            "\u001b[0;31mTypeError\u001b[0m: not all arguments converted during string formatting"
          ]
        }
      ]
    },
    {
      "cell_type": "code",
      "metadata": {
        "id": "HKLjlfLEZ_w9"
      },
      "source": [
        "for counter in range(1000000)"
      ],
      "execution_count": null,
      "outputs": []
    }
  ]
}